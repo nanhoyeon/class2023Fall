{
  "nbformat": 4,
  "nbformat_minor": 0,
  "metadata": {
    "kernelspec": {
      "display_name": "Python 3",
      "language": "python",
      "name": "python3"
    },
    "language_info": {
      "codemirror_mode": {
        "name": "ipython",
        "version": 3
      },
      "file_extension": ".py",
      "mimetype": "text/x-python",
      "name": "python",
      "nbconvert_exporter": "python",
      "pygments_lexer": "ipython3",
      "version": "3.7.1"
    },
    "colab": {
      "name": "variables.ipynb",
      "provenance": [],
      "include_colab_link": true
    }
  },
  "cells": [
    {
      "cell_type": "markdown",
      "metadata": {
        "id": "view-in-github",
        "colab_type": "text"
      },
      "source": [
        "<a href=\"https://colab.research.google.com/github/nanhoyeon/class2023Fall/blob/main/variables.ipynb\" target=\"_parent\"><img src=\"https://colab.research.google.com/assets/colab-badge.svg\" alt=\"Open In Colab\"/></a>"
      ]
    },
    {
      "cell_type": "code",
      "metadata": {
        "id": "goAyoU7vRheI",
        "outputId": "516470d9-99ef-4658-80a0-0141933e1c18",
        "colab": {
          "base_uri": "https://localhost:8080/"
        }
      },
      "source": [
        "a = 1; print(type(a))"
      ],
      "execution_count": 1,
      "outputs": [
        {
          "output_type": "stream",
          "name": "stdout",
          "text": [
            "<class 'int'>\n"
          ]
        }
      ]
    },
    {
      "cell_type": "markdown",
      "source": [
        "a에다가 1을 assign한다."
      ],
      "metadata": {
        "id": "H4uo3xoeNHxf"
      }
    },
    {
      "cell_type": "markdown",
      "source": [
        "print는 함수 이름\n",
        "파이썬에서 입력은 괄호를 통해서 넣는다.\n",
        "괄호 안에는 변수만 들어가야 한다.\n",
        "변수의 종류는 크게 문자와 숫자밖에 없다.\n",
        "만든 사람이 그렇게 만들었다.\n",
        "괄호가 있으면 괄호 앞에 있는 게 함수 이름이라고 생각할 수 있어야 한다.\n",
        "위에서 print와 type은 모두 함수다.\n",
        "type은 변수가 가지고 있는 내용을 물어보는 함수다.\n",
        "값이 int로 나왔으니 a는 정수라는 뜻이다."
      ],
      "metadata": {
        "id": "Gzj222wDN6o1"
      }
    },
    {
      "cell_type": "code",
      "metadata": {
        "id": "txxnoqJuRheJ",
        "outputId": "fac1233b-b1e0-41b4-ea3c-94ad0c7104ec",
        "colab": {
          "base_uri": "https://localhost:8080/"
        }
      },
      "source": [
        "a = 1.1; print(type(a))"
      ],
      "execution_count": null,
      "outputs": [
        {
          "output_type": "stream",
          "name": "stdout",
          "text": [
            "<class 'float'>\n"
          ]
        }
      ]
    },
    {
      "cell_type": "markdown",
      "source": [
        "float는 실수라는 뜻"
      ],
      "metadata": {
        "id": "AKx4Sr78PxOu"
      }
    },
    {
      "cell_type": "code",
      "metadata": {
        "id": "SyP0PB86RheL",
        "outputId": "3a9e2e6a-6761-41ac-86f7-b15f9c35be2a",
        "colab": {
          "base_uri": "https://localhost:8080/"
        }
      },
      "source": [
        "a = '123'; print(type(a)); print(a[1])"
      ],
      "execution_count": 2,
      "outputs": [
        {
          "output_type": "stream",
          "name": "stdout",
          "text": [
            "<class 'str'>\n",
            "2\n"
          ]
        }
      ]
    },
    {
      "cell_type": "markdown",
      "source": [
        "str(스트링)은 문자라는 뜻\n",
        "''(quote)하면 str 처리가 된다.\n",
        "\n",
        "access는 0번째부터 시작한다.\n",
        "a[1]은 '123' 중에서 2번째에 해당하는 걸 access하는 것이므로 2가 값으로 나온다."
      ],
      "metadata": {
        "id": "CNHAeqHTQhZY"
      }
    },
    {
      "cell_type": "code",
      "metadata": {
        "id": "EKYj0dvIHPo0",
        "outputId": "a1237ded-1b0a-4ec6-e393-09846b2194a5",
        "colab": {
          "base_uri": "https://localhost:8080/"
        }
      },
      "source": [
        "a = 'hello'; print(type(a)); print(a[1])"
      ],
      "execution_count": null,
      "outputs": [
        {
          "output_type": "stream",
          "name": "stdout",
          "text": [
            "<class 'str'>\n",
            "e\n"
          ]
        }
      ]
    },
    {
      "cell_type": "markdown",
      "source": [
        "hello의 두 번째 글자는 e"
      ],
      "metadata": {
        "id": "hEcsLLlrV6KE"
      }
    },
    {
      "cell_type": "code",
      "metadata": {
        "id": "Df6PhU-tHXr2",
        "outputId": "3e99729c-3214-4756-e692-1522f494a01e",
        "colab": {
          "base_uri": "https://localhost:8080/"
        }
      },
      "source": [
        "a = [1, 2, 3, 4]; print(type(a)); print(a[0])"
      ],
      "execution_count": null,
      "outputs": [
        {
          "output_type": "stream",
          "name": "stdout",
          "text": [
            "<class 'list'>\n",
            "1\n"
          ]
        }
      ]
    },
    {
      "cell_type": "markdown",
      "source": [
        "변수 여러 개를 하나에 넣을 수도 있다.\n",
        "그럴 때 사용하는 게 list다.\n",
        "대괄호 있으면 list\n",
        "\n",
        "1, 2, 3, 4의 list 중에서 첫 번째 값을 access하면 1이"
      ],
      "metadata": {
        "id": "KIh6wIIwUxwk"
      }
    },
    {
      "cell_type": "code",
      "metadata": {
        "id": "DfS-gknCRheL",
        "outputId": "ff76fc0a-73db-43fc-bb86-946381a6cb4d",
        "colab": {
          "base_uri": "https://localhost:8080/"
        }
      },
      "source": [
        "a = [1,'a', [3, '4']]; print(type(a)); print(a[0]); print(a[1]); print(a[2]); print(a[2][1])"
      ],
      "execution_count": null,
      "outputs": [
        {
          "output_type": "stream",
          "name": "stdout",
          "text": [
            "<class 'list'>\n",
            "1\n",
            "a\n",
            "[3, '4']\n",
            "4\n"
          ]
        }
      ]
    },
    {
      "cell_type": "markdown",
      "source": [
        "list 안에는 1, a, [3, '4']가 들어있다.\n",
        "[3, '4'] 중에서도 특히 '4' 에 access하고 싶다면 대괄호를 하나 더 하면 된다."
      ],
      "metadata": {
        "id": "-W9CVuwCWaPG"
      }
    },
    {
      "cell_type": "markdown",
      "source": [
        "숫자, 문자, 심지어 list 자체도 list 안에 들어갈 수 있다.\n",
        "여러 개의 list 중 특정한 걸 가지고 오고 싶다면?"
      ],
      "metadata": {
        "id": "EhCxqKZZVI2E"
      }
    },
    {
      "cell_type": "code",
      "metadata": {
        "id": "2sivfloGRheM",
        "outputId": "5c768bb7-e02b-4c87-a76e-3e992cdb244e"
      },
      "source": [
        "a =\t{\"a\": \"apple\", \"b\": \"orange\", \"c\": 2014}\n",
        "print(type(a))\n",
        "print(a[\"a\"])"
      ],
      "execution_count": null,
      "outputs": [
        {
          "output_type": "stream",
          "text": [
            "<class 'dict'>\n",
            "apple\n"
          ],
          "name": "stdout"
        }
      ]
    },
    {
      "cell_type": "markdown",
      "source": [
        "dict: dictionary\n",
        "사전의 저장 정보랑 똑같다.\n",
        "숫자, 문자, list, dict: 변수 종류들\n",
        "dict에서는 각 요소를 , 로 구분한다.\n",
        "문자는 '' 와 \"\" 둘 다로 quote 할 수 있다.\n",
        "':'은 pairwise?를 나타낸다?\n",
        "dict는 list와 달리 번호 안쓴다."
      ],
      "metadata": {
        "id": "2hkXBXWHXCRm"
      }
    }
  ]
}