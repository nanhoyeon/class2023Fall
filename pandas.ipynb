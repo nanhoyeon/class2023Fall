{
  "nbformat": 4,
  "nbformat_minor": 0,
  "metadata": {
    "colab": {
      "name": "pandas.ipynb",
      "provenance": [],
      "include_colab_link": true
    },
    "kernelspec": {
      "name": "python3",
      "display_name": "Python 3"
    },
    "language_info": {
      "name": "python"
    }
  },
  "cells": [
    {
      "cell_type": "markdown",
      "metadata": {
        "id": "view-in-github",
        "colab_type": "text"
      },
      "source": [
        "<a href=\"https://colab.research.google.com/github/nanhoyeon/class2023Fall/blob/main/pandas.ipynb\" target=\"_parent\"><img src=\"https://colab.research.google.com/assets/colab-badge.svg\" alt=\"Open In Colab\"/></a>"
      ]
    },
    {
      "cell_type": "markdown",
      "source": [
        "### Importing libraries"
      ],
      "metadata": {
        "id": "t6YRFy8vHw3f"
      }
    },
    {
      "cell_type": "code",
      "source": [
        "import pandas as pd"
      ],
      "metadata": {
        "id": "km1FLv12HwfE"
      },
      "execution_count": null,
      "outputs": []
    },
    {
      "cell_type": "markdown",
      "source": [
        "### Loading csv file"
      ],
      "metadata": {
        "id": "l9hcO5nhFNBs"
      }
    },
    {
      "cell_type": "code",
      "execution_count": 1,
      "metadata": {
        "id": "IlcjthG78XD5",
        "outputId": "2724f179-1c86-4365-82ba-a48da6e5e193",
        "colab": {
          "base_uri": "https://localhost:8080/",
          "height": 221
        }
      },
      "outputs": [
        {
          "output_type": "error",
          "ename": "NameError",
          "evalue": "ignored",
          "traceback": [
            "\u001b[0;31m---------------------------------------------------------------------------\u001b[0m",
            "\u001b[0;31mNameError\u001b[0m                                 Traceback (most recent call last)",
            "\u001b[0;32m<ipython-input-1-a10497cb1862>\u001b[0m in \u001b[0;36m<cell line: 1>\u001b[0;34m()\u001b[0m\n\u001b[0;32m----> 1\u001b[0;31m \u001b[0mdf\u001b[0m \u001b[0;34m=\u001b[0m \u001b[0mpd\u001b[0m\u001b[0;34m.\u001b[0m\u001b[0mread_csv\u001b[0m\u001b[0;34m(\u001b[0m\u001b[0;34m\"https://download.mlcc.google.com/mledu-datasets/california_housing_train.csv\"\u001b[0m\u001b[0;34m,\u001b[0m \u001b[0msep\u001b[0m\u001b[0;34m=\u001b[0m\u001b[0;34m\",\"\u001b[0m\u001b[0;34m)\u001b[0m\u001b[0;34m\u001b[0m\u001b[0;34m\u001b[0m\u001b[0m\n\u001b[0m\u001b[1;32m      2\u001b[0m \u001b[0mdf\u001b[0m\u001b[0;34m\u001b[0m\u001b[0;34m\u001b[0m\u001b[0m\n",
            "\u001b[0;31mNameError\u001b[0m: name 'pd' is not defined"
          ]
        }
      ],
      "source": [
        "df = pd.read_csv(\"https://download.mlcc.google.com/mledu-datasets/california_housing_train.csv\", sep=\",\")\n",
        "df"
      ]
    },
    {
      "cell_type": "code",
      "source": [
        "print(df.size); print(df.ndim); print(df.shape)"
      ],
      "metadata": {
        "id": "TccKwiUEB3S-",
        "outputId": "4873856a-e6c0-46ba-f5cf-63e5b9cb5740",
        "colab": {
          "base_uri": "https://localhost:8080/",
          "height": 184
        }
      },
      "execution_count": 3,
      "outputs": [
        {
          "output_type": "error",
          "ename": "NameError",
          "evalue": "ignored",
          "traceback": [
            "\u001b[0;31m---------------------------------------------------------------------------\u001b[0m",
            "\u001b[0;31mNameError\u001b[0m                                 Traceback (most recent call last)",
            "\u001b[0;32m<ipython-input-3-d73fbd972dc2>\u001b[0m in \u001b[0;36m<cell line: 1>\u001b[0;34m()\u001b[0m\n\u001b[0;32m----> 1\u001b[0;31m \u001b[0mprint\u001b[0m\u001b[0;34m(\u001b[0m\u001b[0mdf\u001b[0m\u001b[0;34m.\u001b[0m\u001b[0msize\u001b[0m\u001b[0;34m)\u001b[0m\u001b[0;34m;\u001b[0m \u001b[0mprint\u001b[0m\u001b[0;34m(\u001b[0m\u001b[0mdf\u001b[0m\u001b[0;34m.\u001b[0m\u001b[0mndim\u001b[0m\u001b[0;34m)\u001b[0m\u001b[0;34m;\u001b[0m \u001b[0mprint\u001b[0m\u001b[0;34m(\u001b[0m\u001b[0mdf\u001b[0m\u001b[0;34m.\u001b[0m\u001b[0mshape\u001b[0m\u001b[0;34m)\u001b[0m\u001b[0;34m\u001b[0m\u001b[0;34m\u001b[0m\u001b[0m\n\u001b[0m",
            "\u001b[0;31mNameError\u001b[0m: name 'df' is not defined"
          ]
        }
      ]
    },
    {
      "cell_type": "code",
      "source": [
        "df.describe()"
      ],
      "metadata": {
        "id": "kP3NoboG8iAs",
        "outputId": "a213a316-1e69-47dc-fdbd-704a50819eb3",
        "colab": {
          "base_uri": "https://localhost:8080/",
          "height": 184
        }
      },
      "execution_count": 2,
      "outputs": [
        {
          "output_type": "error",
          "ename": "NameError",
          "evalue": "ignored",
          "traceback": [
            "\u001b[0;31m---------------------------------------------------------------------------\u001b[0m",
            "\u001b[0;31mNameError\u001b[0m                                 Traceback (most recent call last)",
            "\u001b[0;32m<ipython-input-2-ea8415b8a3ee>\u001b[0m in \u001b[0;36m<cell line: 1>\u001b[0;34m()\u001b[0m\n\u001b[0;32m----> 1\u001b[0;31m \u001b[0mdf\u001b[0m\u001b[0;34m.\u001b[0m\u001b[0mdescribe\u001b[0m\u001b[0;34m(\u001b[0m\u001b[0;34m)\u001b[0m\u001b[0;34m\u001b[0m\u001b[0;34m\u001b[0m\u001b[0m\n\u001b[0m",
            "\u001b[0;31mNameError\u001b[0m: name 'df' is not defined"
          ]
        }
      ]
    },
    {
      "cell_type": "markdown",
      "source": [
        "### Saving to CSV"
      ],
      "metadata": {
        "id": "YDgsE5VsG7EK"
      }
    },
    {
      "cell_type": "code",
      "source": [
        "df.to_csv('california_housing_train.csv')"
      ],
      "metadata": {
        "id": "p0HH9Mf6G6xp",
        "outputId": "b2dc52be-21b8-40b7-ce00-37aadf441087",
        "colab": {
          "base_uri": "https://localhost:8080/",
          "height": 184
        }
      },
      "execution_count": 4,
      "outputs": [
        {
          "output_type": "error",
          "ename": "NameError",
          "evalue": "ignored",
          "traceback": [
            "\u001b[0;31m---------------------------------------------------------------------------\u001b[0m",
            "\u001b[0;31mNameError\u001b[0m                                 Traceback (most recent call last)",
            "\u001b[0;32m<ipython-input-4-9e140ffeff74>\u001b[0m in \u001b[0;36m<cell line: 1>\u001b[0;34m()\u001b[0m\n\u001b[0;32m----> 1\u001b[0;31m \u001b[0mdf\u001b[0m\u001b[0;34m.\u001b[0m\u001b[0mto_csv\u001b[0m\u001b[0;34m(\u001b[0m\u001b[0;34m'california_housing_train.csv'\u001b[0m\u001b[0;34m)\u001b[0m\u001b[0;34m\u001b[0m\u001b[0;34m\u001b[0m\u001b[0m\n\u001b[0m",
            "\u001b[0;31mNameError\u001b[0m: name 'df' is not defined"
          ]
        }
      ]
    },
    {
      "cell_type": "markdown",
      "metadata": {
        "id": "NysUV4ad32LJ"
      },
      "source": [
        "### Constructing a DataFrame using dict"
      ]
    },
    {
      "cell_type": "code",
      "execution_count": 5,
      "metadata": {
        "id": "CI7tYc4Q32LK",
        "outputId": "c967a674-383d-453d-dd03-50748463f68a",
        "colab": {
          "base_uri": "https://localhost:8080/",
          "height": 239
        }
      },
      "outputs": [
        {
          "output_type": "error",
          "ename": "NameError",
          "evalue": "ignored",
          "traceback": [
            "\u001b[0;31m---------------------------------------------------------------------------\u001b[0m",
            "\u001b[0;31mNameError\u001b[0m                                 Traceback (most recent call last)",
            "\u001b[0;32m<ipython-input-5-e04bf5a113a7>\u001b[0m in \u001b[0;36m<cell line: 8>\u001b[0;34m()\u001b[0m\n\u001b[1;32m      6\u001b[0m         'species': ['virginica', 'virginica', 'setosa', 'versicolor', 'setosa']}\n\u001b[1;32m      7\u001b[0m \u001b[0;34m\u001b[0m\u001b[0m\n\u001b[0;32m----> 8\u001b[0;31m \u001b[0mdf\u001b[0m \u001b[0;34m=\u001b[0m \u001b[0mpd\u001b[0m\u001b[0;34m.\u001b[0m\u001b[0mDataFrame\u001b[0m\u001b[0;34m(\u001b[0m\u001b[0mdata\u001b[0m\u001b[0;34m)\u001b[0m\u001b[0;34m\u001b[0m\u001b[0;34m\u001b[0m\u001b[0m\n\u001b[0m\u001b[1;32m      9\u001b[0m \u001b[0mdf\u001b[0m\u001b[0;34m\u001b[0m\u001b[0;34m\u001b[0m\u001b[0m\n",
            "\u001b[0;31mNameError\u001b[0m: name 'pd' is not defined"
          ]
        }
      ],
      "source": [
        "# Some input data - a small sample of the iris dataset\n",
        "data = {'sepal_length': [6.9, 6.9, 4.8, 5.4, 4.6],\n",
        "        'sepal_width': [3.2, 3.1, 3.4, 3.0, 3.6],\n",
        "        'petal_length': [5.7, 5.1, 1.9, 4.5, 1.0],\n",
        "        'petal_width': [2.3, 2.3, 0.2, 1.5, 0.2],\n",
        "        'species': ['virginica', 'virginica', 'setosa', 'versicolor', 'setosa']}\n",
        "\n",
        "df = pd.DataFrame(data)\n",
        "df"
      ]
    },
    {
      "cell_type": "markdown",
      "source": [
        "### Constructing a DataFrame using pd.Series"
      ],
      "metadata": {
        "id": "4xktp6-HLv2W"
      }
    },
    {
      "cell_type": "code",
      "source": [
        "sepal_length = pd.Series([6.9, 6.9, 4.8, 5.4, 4.6])\n",
        "sepal_width = pd.Series([3.2, 3.1, 3.4, 3.0, 3.6])\n",
        "petal_length = pd.Series([5.7, 5.1, 1.9, 4.5, 1.0])\n",
        "petal_width = pd.Series([2.3, 2.3, 0.2, 1.5, 0.2])\n",
        "species = pd.Series(['virginica', 'virginica', 'setosa', 'versicolor', 'setosa'])\n",
        "\n",
        "df = pd.DataFrame({'sepal_length': sepal_length, 'sepal_width': sepal_width, 'petal_length': petal_length, 'petal_width': petal_width, 'SPECIES': species})\n",
        "df"
      ],
      "metadata": {
        "id": "tOXBW0W4_c3e"
      },
      "execution_count": null,
      "outputs": []
    },
    {
      "cell_type": "markdown",
      "metadata": {
        "id": "btyJ4nIB32LM"
      },
      "source": [
        "### Changing column names"
      ]
    },
    {
      "cell_type": "code",
      "execution_count": null,
      "metadata": {
        "id": "iBsTsL0J32LN"
      },
      "outputs": [],
      "source": [
        "# Change the columns\n",
        "df.columns = ['sepal_length', 'sepal_width', 'petal_length', 'petal_width', 'species']\n",
        "df"
      ]
    },
    {
      "cell_type": "markdown",
      "metadata": {
        "id": "8NRfX2U332LO"
      },
      "source": [
        "### Accessing columns"
      ]
    },
    {
      "cell_type": "code",
      "execution_count": null,
      "metadata": {
        "id": "DBAAnC1I32LO"
      },
      "outputs": [],
      "source": [
        "# Access one column\n",
        "df.loc[:, 'sepal_length']"
      ]
    },
    {
      "cell_type": "code",
      "execution_count": null,
      "metadata": {
        "id": "gDBR--u832LO"
      },
      "outputs": [],
      "source": [
        "# Access one column (short-hand)\n",
        "df['sepal_length']"
      ]
    },
    {
      "cell_type": "code",
      "source": [
        "# Access one column (shortest-hand)\n",
        "df.sepal_length"
      ],
      "metadata": {
        "id": "ix7c1jzFQRTe"
      },
      "execution_count": null,
      "outputs": []
    },
    {
      "cell_type": "code",
      "execution_count": null,
      "metadata": {
        "id": "DaXVg9Gs32LP"
      },
      "outputs": [],
      "source": [
        "# Access two columns\n",
        "df.loc[:, ['sepal_length', 'sepal_width']]"
      ]
    },
    {
      "cell_type": "code",
      "execution_count": null,
      "metadata": {
        "id": "zyXCD9yl32LP"
      },
      "outputs": [],
      "source": [
        "# Access two columns (short-hand)\n",
        "df[['sepal_length', 'sepal_width']]"
      ]
    },
    {
      "cell_type": "markdown",
      "metadata": {
        "id": "G7IgmghJ32LP"
      },
      "source": [
        "### Accessing rows"
      ]
    },
    {
      "cell_type": "code",
      "execution_count": null,
      "metadata": {
        "id": "jS7CLQR532LP"
      },
      "outputs": [],
      "source": [
        "# Access one row\n",
        "df.loc[3, :]"
      ]
    },
    {
      "cell_type": "code",
      "execution_count": null,
      "metadata": {
        "id": "_eZBMb0q32LP"
      },
      "outputs": [],
      "source": [
        "# Access two rows\n",
        "df.loc[[3, 0], :]"
      ]
    },
    {
      "cell_type": "code",
      "execution_count": 6,
      "metadata": {
        "id": "DtxCf_Rf32LQ",
        "outputId": "d98551af-23f3-4944-fab5-4fee9e28bb4c",
        "colab": {
          "base_uri": "https://localhost:8080/",
          "height": 203
        }
      },
      "outputs": [
        {
          "output_type": "error",
          "ename": "NameError",
          "evalue": "ignored",
          "traceback": [
            "\u001b[0;31m---------------------------------------------------------------------------\u001b[0m",
            "\u001b[0;31mNameError\u001b[0m                                 Traceback (most recent call last)",
            "\u001b[0;32m<ipython-input-6-63b4cf44a090>\u001b[0m in \u001b[0;36m<cell line: 2>\u001b[0;34m()\u001b[0m\n\u001b[1;32m      1\u001b[0m \u001b[0;31m# Access a range of rows\u001b[0m\u001b[0;34m\u001b[0m\u001b[0;34m\u001b[0m\u001b[0m\n\u001b[0;32m----> 2\u001b[0;31m \u001b[0mdf\u001b[0m\u001b[0;34m.\u001b[0m\u001b[0mloc\u001b[0m\u001b[0;34m[\u001b[0m\u001b[0;36m2\u001b[0m\u001b[0;34m:\u001b[0m\u001b[0;36m5\u001b[0m\u001b[0;34m,\u001b[0m \u001b[0;34m:\u001b[0m\u001b[0;34m]\u001b[0m\u001b[0;34m\u001b[0m\u001b[0;34m\u001b[0m\u001b[0m\n\u001b[0m",
            "\u001b[0;31mNameError\u001b[0m: name 'df' is not defined"
          ]
        }
      ],
      "source": [
        "# Access a range of rows\n",
        "df.loc[2:5, :]"
      ]
    },
    {
      "cell_type": "code",
      "execution_count": null,
      "metadata": {
        "id": "Zm8edm9Z32LQ"
      },
      "outputs": [],
      "source": [
        "# Filter keeping only rows with `sepal_length` > 5\n",
        "df[df.sepal_length > 5]"
      ]
    },
    {
      "cell_type": "markdown",
      "source": [
        "### Accessing a cell"
      ],
      "metadata": {
        "id": "lcXgjiuwM4SR"
      }
    },
    {
      "cell_type": "code",
      "source": [
        "df.loc[:, 'sepal_length'][4]"
      ],
      "metadata": {
        "id": "an1xbTN4Q1vA",
        "outputId": "459d6495-fb29-49fc-9ff3-81b08df472e8",
        "colab": {
          "base_uri": "https://localhost:8080/"
        }
      },
      "execution_count": null,
      "outputs": [
        {
          "output_type": "execute_result",
          "data": {
            "text/plain": [
              "4.6"
            ]
          },
          "metadata": {},
          "execution_count": 68
        }
      ]
    },
    {
      "cell_type": "code",
      "source": [
        "df['sepal_length'][4]"
      ],
      "metadata": {
        "id": "PJw7-zu4M4or",
        "outputId": "3d0bb0e1-ff8b-48ff-ab3c-f459b43b7942",
        "colab": {
          "base_uri": "https://localhost:8080/"
        }
      },
      "execution_count": null,
      "outputs": [
        {
          "output_type": "execute_result",
          "data": {
            "text/plain": [
              "4.6"
            ]
          },
          "metadata": {},
          "execution_count": 67
        }
      ]
    },
    {
      "cell_type": "code",
      "source": [
        "df.sepal_length[4]"
      ],
      "metadata": {
        "id": "HkMdk-H-Q1lL",
        "outputId": "1fb2ebe4-9d50-4c4a-d123-e0c2dd1d834f",
        "colab": {
          "base_uri": "https://localhost:8080/"
        }
      },
      "execution_count": null,
      "outputs": [
        {
          "output_type": "execute_result",
          "data": {
            "text/plain": [
              "4.6"
            ]
          },
          "metadata": {},
          "execution_count": 66
        }
      ]
    },
    {
      "cell_type": "markdown",
      "metadata": {
        "id": "26641I8q32LR"
      },
      "source": [
        "### Adding/Removing new columns"
      ]
    },
    {
      "cell_type": "code",
      "execution_count": null,
      "metadata": {
        "id": "-EZ10v9s32LR"
      },
      "outputs": [],
      "source": [
        "df['new_column'] = 1\n",
        "df"
      ]
    },
    {
      "cell_type": "code",
      "execution_count": null,
      "metadata": {
        "id": "O2P8oNUm32LR"
      },
      "outputs": [],
      "source": [
        "df['new_column'] = [1, 2, 3, 4, 5]\n",
        "df"
      ]
    },
    {
      "cell_type": "code",
      "source": [
        "df = df.drop('new_column', axis=1) # axis=1: column\n",
        "df"
      ],
      "metadata": {
        "id": "WTTZwNEZSS2C"
      },
      "execution_count": null,
      "outputs": []
    },
    {
      "cell_type": "markdown",
      "source": [
        "### Adding/Removing new rows"
      ],
      "metadata": {
        "id": "f5sF36S2Tob3"
      }
    },
    {
      "cell_type": "code",
      "source": [
        "df.loc[5, :] = ''\n",
        "df"
      ],
      "metadata": {
        "id": "BGdOrz-kRbhv"
      },
      "execution_count": null,
      "outputs": []
    },
    {
      "cell_type": "code",
      "source": [
        "df = df.drop(5, axis=0) # axis=0: row\n",
        "df"
      ],
      "metadata": {
        "id": "0q5Oov0CS_aZ"
      },
      "execution_count": null,
      "outputs": []
    }
  ]
}