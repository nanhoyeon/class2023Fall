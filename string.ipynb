{
  "nbformat": 4,
  "nbformat_minor": 0,
  "metadata": {
    "kernelspec": {
      "display_name": "Python 3",
      "language": "python",
      "name": "python3"
    },
    "language_info": {
      "codemirror_mode": {
        "name": "ipython",
        "version": 3
      },
      "file_extension": ".py",
      "mimetype": "text/x-python",
      "name": "python",
      "nbconvert_exporter": "python",
      "pygments_lexer": "ipython3",
      "version": "3.7.1"
    },
    "colab": {
      "name": "string.ipynb",
      "provenance": [],
      "include_colab_link": true
    }
  },
  "cells": [
    {
      "cell_type": "markdown",
      "metadata": {
        "id": "view-in-github",
        "colab_type": "text"
      },
      "source": [
        "<a href=\"https://colab.research.google.com/github/nanhoyeon/class2023Fall/blob/main/string.ipynb\" target=\"_parent\"><img src=\"https://colab.research.google.com/assets/colab-badge.svg\" alt=\"Open In Colab\"/></a>"
      ]
    },
    {
      "cell_type": "code",
      "metadata": {
        "id": "zwpWU02YmAur",
        "outputId": "75cbf094-66c1-4fc3-b128-fde8aeda0bce",
        "colab": {
          "base_uri": "https://localhost:8080/"
        }
      },
      "source": [
        "s = 'abcdef'\n",
        "print(s[0], s[5], s[-1], s[-6])\n",
        "print(s[1:3], s[1:], s[:3], s[:])"
      ],
      "execution_count": 1,
      "outputs": [
        {
          "output_type": "stream",
          "name": "stdout",
          "text": [
            "a f f a\n",
            "bc bcdef abc abcdef\n"
          ]
        }
      ]
    },
    {
      "cell_type": "markdown",
      "source": [
        "문자를 여러 개 가져오고 싶을 때\n",
        "예를 들어 위에서 [1:3]을 하면 bc가 출력된다.\n",
        "0번째인 a는 포함 안되고 1번째인 b부터 시작한다! 3번째인 d의 직전 값인 c까지만 출력되게 만들어져 있다.\n",
        "\n",
        "-1번째라는 건 제일 마지막을 이야기함(-0은 없으니깐)\n",
        "\n",
        "스트링 access와 list access를 잘 이해해야 한다."
      ],
      "metadata": {
        "id": "Q9AippiCfa4y"
      }
    },
    {
      "cell_type": "code",
      "metadata": {
        "id": "mpkdZBeWmAux",
        "outputId": "a5f03d66-f3c7-4ac5-bb23-d4ee9780172d"
      },
      "source": [
        "n = [100, 200, 300]\n",
        "print(n[0], n[2], n[-1], n[-3])\n",
        "print(n[1:2], n[1:], n[:2], n[:])"
      ],
      "execution_count": null,
      "outputs": [
        {
          "name": "stdout",
          "output_type": "stream",
          "text": [
            "100 300 300 100\n",
            "[200] [200, 300] [100, 200] [100, 200, 300]\n"
          ]
        }
      ]
    },
    {
      "cell_type": "markdown",
      "source": [
        "list access"
      ],
      "metadata": {
        "id": "bdAz9TFjnkPn"
      }
    },
    {
      "cell_type": "code",
      "metadata": {
        "id": "ulnefmnFmAuy",
        "outputId": "013b6af1-433f-4d95-e343-71631a426f84"
      },
      "source": [
        "len(s)"
      ],
      "execution_count": null,
      "outputs": [
        {
          "data": {
            "text/plain": [
              "6"
            ]
          },
          "execution_count": 4,
          "metadata": {},
          "output_type": "execute_result"
        }
      ]
    },
    {
      "cell_type": "markdown",
      "source": [
        "len은 s라는 변수의 길이를 재주는 함수다."
      ],
      "metadata": {
        "id": "N_VXdQH6hwDb"
      }
    },
    {
      "cell_type": "code",
      "metadata": {
        "id": "a45rgiNMmAuy",
        "outputId": "9b1a4417-a513-4f77-8ae9-64352e6da015"
      },
      "source": [
        "s[1]+s[3]+s[4:]*10"
      ],
      "execution_count": null,
      "outputs": [
        {
          "data": {
            "text/plain": [
              "'bdefefefefefefefefefef'"
            ]
          },
          "execution_count": 5,
          "metadata": {},
          "output_type": "execute_result"
        }
      ]
    },
    {
      "cell_type": "markdown",
      "source": [
        "더하기는 합쳐주는 것"
      ],
      "metadata": {
        "id": "ltvnue--kbFy"
      }
    },
    {
      "cell_type": "code",
      "metadata": {
        "id": "IevwoMpmmAuz",
        "outputId": "69636955-73a9-49f7-ea43-efdb38a982c1"
      },
      "source": [
        "s.upper()"
      ],
      "execution_count": null,
      "outputs": [
        {
          "data": {
            "text/plain": [
              "'ABCDEF'"
            ]
          },
          "execution_count": 7,
          "metadata": {},
          "output_type": "execute_result"
        }
      ]
    },
    {
      "cell_type": "markdown",
      "source": [
        "upper는 대문자로 만들어주는 함수"
      ],
      "metadata": {
        "id": "CGt6NczDklAn"
      }
    },
    {
      "cell_type": "code",
      "metadata": {
        "id": "LRU0Yt1amAuz",
        "outputId": "3fdbe8c7-9962-40ba-f624-2ac1aa2c7e44"
      },
      "source": [
        "s = ' this is a house built this year.\\n'\n",
        "s"
      ],
      "execution_count": null,
      "outputs": [
        {
          "data": {
            "text/plain": [
              "' this is a house built this year.\\n'"
            ]
          },
          "execution_count": 10,
          "metadata": {},
          "output_type": "execute_result"
        }
      ]
    },
    {
      "cell_type": "markdown",
      "source": [
        "입출력을 한다는 말이 꼭 입력이 들어가고 출력이 반드시 나올 필요는 없다? empty라는 입력도 가능함."
      ],
      "metadata": {
        "id": "OUOSQzzVk4sy"
      }
    },
    {
      "cell_type": "code",
      "metadata": {
        "id": "nMHteyDfmAu0",
        "outputId": "2f55caa2-dd53-4fac-e876-05ca87c5d63d"
      },
      "source": [
        "result = s.find('house') \t    # index of first instance of string t inside s (-1 if not found)\n",
        "result"
      ],
      "execution_count": null,
      "outputs": [
        {
          "data": {
            "text/plain": [
              "11"
            ]
          },
          "execution_count": 11,
          "metadata": {},
          "output_type": "execute_result"
        }
      ]
    },
    {
      "cell_type": "markdown",
      "source": [
        "11은 house의 h가 처음 시작하는 인덱"
      ],
      "metadata": {
        "id": "OehYhOeKlShI"
      }
    },
    {
      "cell_type": "code",
      "metadata": {
        "id": "gv82JUX7mAu0",
        "outputId": "18540837-5eb4-4cea-f087-2f7fd1581afa"
      },
      "source": [
        "result = s.find('this')\t      # index of first instance of string t inside s (-1 if not found)\n",
        "result"
      ],
      "execution_count": null,
      "outputs": [
        {
          "data": {
            "text/plain": [
              "1"
            ]
          },
          "execution_count": 12,
          "metadata": {},
          "output_type": "execute_result"
        }
      ]
    },
    {
      "cell_type": "markdown",
      "source": [
        "this는 0번째가 아니라 1번째에 있다."
      ],
      "metadata": {
        "id": "I2gcBXFqlkzz"
      }
    },
    {
      "cell_type": "code",
      "metadata": {
        "id": "ua3TjwLcmAu2",
        "outputId": "ac192f91-46ce-4ff0-a040-f0d63541124e"
      },
      "source": [
        "s = s.strip()      \t          # a copy of s without leading or trailing whitespace\n",
        "s"
      ],
      "execution_count": null,
      "outputs": [
        {
          "data": {
            "text/plain": [
              "'this is a house built this year.'"
            ]
          },
          "execution_count": 14,
          "metadata": {},
          "output_type": "execute_result"
        }
      ]
    },
    {
      "cell_type": "markdown",
      "source": [
        "필요없는 공백 등을 없애준다."
      ],
      "metadata": {
        "id": "wtP787-wloh2"
      }
    },
    {
      "cell_type": "code",
      "metadata": {
        "id": "l37g5DqQmAu2"
      },
      "source": [
        "tokens = s.split(' ')\t        # split s into a list wherever a t is found (whitespace by default)\n",
        "tokens"
      ],
      "execution_count": null,
      "outputs": []
    },
    {
      "cell_type": "markdown",
      "source": [
        "'this', 'is', 'a', 'house', 'built', 'this', 'year.'\n",
        "여기 house가 왜 4번째?"
      ],
      "metadata": {
        "id": "iZ8PE3xznysa"
      }
    },
    {
      "cell_type": "markdown",
      "source": [
        "split은 공백(스페이스)라는 것을 문자로 하는 함수\n",
        "즉 띄어쓰기 기준으로 쪼개는 함수\n",
        "리스트('')로 쪼개준다."
      ],
      "metadata": {
        "id": "i00MX0bdluv5"
      }
    },
    {
      "cell_type": "code",
      "metadata": {
        "id": "64sewKE8mAu2",
        "outputId": "e2e8dc1f-6b83-41ef-b746-7712099f2776"
      },
      "source": [
        "s = ' '.join(tokens)\t        # combine the words of the text into a string using s as the glue\n",
        "s"
      ],
      "execution_count": null,
      "outputs": [
        {
          "data": {
            "text/plain": [
              "'this is a house built this year.'"
            ]
          },
          "execution_count": 16,
          "metadata": {},
          "output_type": "execute_result"
        }
      ]
    },
    {
      "cell_type": "markdown",
      "source": [
        "함수.함수 -> 함수 두 개를 연결"
      ],
      "metadata": {
        "id": "Yg0Icv0podaA"
      }
    },
    {
      "cell_type": "code",
      "metadata": {
        "id": "jfiqbBiImAu3",
        "outputId": "13300aff-f13a-4f48-c6ec-cbc5d01dd55b"
      },
      "source": [
        "s = s.replace('this', 'that') # replace instances of t with u inside s\n",
        "s"
      ],
      "execution_count": null,
      "outputs": [
        {
          "data": {
            "text/plain": [
              "'that is a house built that year.'"
            ]
          },
          "execution_count": 17,
          "metadata": {},
          "output_type": "execute_result"
        }
      ]
    }
  ]
}